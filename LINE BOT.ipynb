{
 "cells": [
  {
   "cell_type": "code",
   "execution_count": null,
   "metadata": {},
   "outputs": [],
   "source": [
    "import base64\n",
    "import hashlib\n",
    "import hmac\n",
    "\n",
    "channel_secret = \"\" # Channel secret string\n",
    "body = \"type\" # Request body string\n",
    "hash = hmac.new(channel_secret.encode('utf-8'),\n",
    "    body.encode('utf-8'), hashlib.sha256).digest()\n",
    "signature = base64.b64encode(hash)\n",
    "# Compare X-Line-Signature request header and the signature\n",
    "hash"
   ]
  },
  {
   "cell_type": "code",
   "execution_count": null,
   "metadata": {},
   "outputs": [],
   "source": [
    "!pip install line-bot-sdk"
   ]
  },
  {
   "cell_type": "markdown",
   "metadata": {},
   "source": [
    "# Get access token"
   ]
  },
  {
   "cell_type": "code",
   "execution_count": null,
   "metadata": {},
   "outputs": [],
   "source": [
    "import requests, json\n",
    "\n",
    "headers = {\n",
    "    'Content-Type': 'application/x-www-form-urlencoded',\n",
    "}\n",
    "\n",
    "data = {\n",
    "    \"grant_type\": \"client_credentials\",\n",
    "    \"client_id\": \"1614337272\",\n",
    "    \"client_secret\": \"990326e1a8911b7b3f3c0d4c1c60f7e1\"\n",
    "}\n",
    "\n",
    "url = \"https://api.line.me/v2/oauth/accessToken\"\n",
    "\n",
    "response = requests.post(url, headers=headers, data=data)\n",
    "token = response.json()['access_token']\n",
    "token"
   ]
  },
  {
   "cell_type": "markdown",
   "metadata": {},
   "source": [
    "# reply message"
   ]
  },
  {
   "cell_type": "code",
   "execution_count": null,
   "metadata": {},
   "outputs": [],
   "source": [
    "from linebot import LineBotApi\n",
    "from linebot.models import TextSendMessage\n",
    "from linebot.exceptions import LineBotApiError\n",
    "\n",
    "line_bot_api = LineBotApi(token)\n",
    "reply_token = \"\"\n",
    "\n",
    "try:\n",
    "    line_bot_api.reply_message(\"\", TextSendMessage(text='Hello World!'))\n",
    "except LineBotApiError as e:\n",
    "    print(\"error\")"
   ]
  },
  {
   "cell_type": "code",
   "execution_count": null,
   "metadata": {},
   "outputs": [],
   "source": [
    "import requests\n",
    "\n",
    "headers = {\n",
    "    'Content-Type': 'application/json',\n",
    "    'Authorization': f'Bearer {token}'\n",
    "}\n",
    "\n",
    "data = {\n",
    "    \"replyToken\": \"\",\n",
    "    \"messages\":[{\n",
    "        \"type\": \"text\", \n",
    "        \"text\": \"Hello, user\"\n",
    "    },  \n",
    "    {\n",
    "        \"type\": \"text\",\n",
    "        \"text\":\"May I help you?\"\n",
    "    }]\n",
    "}\n",
    "\n",
    "url = \"https://api.line.me/v2/bot/message/reply\"\n",
    "\n",
    "response = requests.post(url, headers=headers, data=data)\n",
    "response"
   ]
  },
  {
   "cell_type": "markdown",
   "metadata": {},
   "source": [
    "# push message"
   ]
  },
  {
   "cell_type": "code",
   "execution_count": null,
   "metadata": {},
   "outputs": [],
   "source": [
    "line_bot_api = LineBotApi(token)\n",
    "\n",
    "user_id = \"\"\n",
    "\n",
    "headers = {\n",
    "    'Content-Type': 'application/json',\n",
    "    'Authorization': f'Bearer {token}'\n",
    "}\n",
    "\n",
    "data = {\n",
    "    \"to\": user_id,\n",
    "    \"messages\":[\n",
    "        {\n",
    "            \"type\":\"text\",\n",
    "            \"text\":\"Hello, world\"\n",
    "        },\n",
    "        {\n",
    "            \"type\":\"text\",\n",
    "            \"text\":\"Line Bot\"\n",
    "        }\n",
    "    ]\n",
    "}\n",
    "\n",
    "url = \"https://api.line.me/v2/bot/message/push\"\n",
    "\n",
    "response = requests.post(url, headers=headers, json=data)\n",
    "response.json()"
   ]
  },
  {
   "cell_type": "code",
   "execution_count": null,
   "metadata": {},
   "outputs": [],
   "source": [
    "line_bot_api = LineBotApi(token)\n",
    "\n",
    "user_id = \"\"\n",
    "\n",
    "headers = {\n",
    "    'Content-Type': 'application/json',\n",
    "    'Authorization': f'Bearer {token}'\n",
    "}\n",
    "\n",
    "data = {\n",
    "    \"to\": [user_id],\n",
    "    \"messages\":[\n",
    "        {\n",
    "            \"type\":\"text\",\n",
    "            \"text\":\"Hello, world\"\n",
    "        },\n",
    "        {\n",
    "            \"type\":\"text\",\n",
    "            \"text\":\"Line Bot\"\n",
    "        }\n",
    "    ]\n",
    "}\n",
    "\n",
    "url = \"https://api.line.me/v2/bot/message/multicast\"\n",
    "\n",
    "response = requests.post(url, headers=headers, json=data)\n",
    "response.json()"
   ]
  },
  {
   "cell_type": "markdown",
   "metadata": {},
   "source": [
    "# data list"
   ]
  },
  {
   "cell_type": "code",
   "execution_count": null,
   "metadata": {},
   "outputs": [],
   "source": [
    "data = [\n",
    "    {\n",
    "        \"type\":\"text\",\n",
    "        \"text\":\"Hello, world\"\n",
    "    },\n",
    "    {\n",
    "        \"type\":\"text\",\n",
    "        \"text\":\"Line Bot\"\n",
    "    }\n",
    "]"
   ]
  },
  {
   "cell_type": "code",
   "execution_count": null,
   "metadata": {},
   "outputs": [],
   "source": [
    "#emoji\n",
    "data = [\n",
    "    {\n",
    "        \"type\": \"text\",\n",
    "        \"text\": \"\\uDBC0\\uDC84 LINE emoji\"\n",
    "    }\n",
    "]"
   ]
  },
  {
   "cell_type": "code",
   "execution_count": null,
   "metadata": {},
   "outputs": [],
   "source": [
    "#stamp\n",
    "data = [\n",
    "    {\n",
    "        \"type\": \"sticker\",\n",
    "        \"packageId\": \"1\",\n",
    "        \"stickerId\": \"1\"\n",
    "    }\n",
    "]"
   ]
  },
  {
   "cell_type": "code",
   "execution_count": null,
   "metadata": {},
   "outputs": [],
   "source": [
    "#image\n",
    "data = [\n",
    "    {\n",
    "        \"type\": \"image\",\n",
    "        \"originalContentUrl\": \"https://example.com/original.jpg\",\n",
    "        \"previewImageUrl\": \"https://example.com/preview.jpg\"\n",
    "    }\n",
    "]"
   ]
  },
  {
   "cell_type": "code",
   "execution_count": null,
   "metadata": {},
   "outputs": [],
   "source": [
    "#vide\n",
    "data = [\n",
    "    {\n",
    "        \"type\": \"video\",\n",
    "        \"originalContentUrl\": \"https://example.com/original.mp4\",\n",
    "        \"previewImageUrl\": \"https://example.com/preview.jpg\"\n",
    "    }\n",
    "]"
   ]
  },
  {
   "cell_type": "code",
   "execution_count": null,
   "metadata": {},
   "outputs": [],
   "source": [
    "#audio\n",
    "data = [\n",
    "    {\n",
    "        \"type\": \"audio\",\n",
    "        \"originalContentUrl\": \"https://example.com/original.m4a\",\n",
    "        \"duration\": 60000\n",
    "    }\n",
    "]"
   ]
  },
  {
   "cell_type": "code",
   "execution_count": null,
   "metadata": {},
   "outputs": [],
   "source": [
    "#location\n",
    "data = [\n",
    "    {\n",
    "        \"type\": \"location\",\n",
    "        \"title\": \"my location\",\n",
    "        \"address\": \"〒150-0002 東京都渋谷区渋谷２丁目２１−１\",\n",
    "        \"latitude\": 35.65910807942215,\n",
    "        \"longitude\": 139.70372892916203\n",
    "    }\n",
    "]"
   ]
  },
  {
   "cell_type": "code",
   "execution_count": null,
   "metadata": {},
   "outputs": [],
   "source": [
    "data = [\n",
    "    {\n",
    "      \"type\": \"template\",\n",
    "      \"altText\": \"This is a buttons template\",\n",
    "      \"template\": {\n",
    "          \"type\": \"buttons\",\n",
    "          \"thumbnailImageUrl\": \"https://example.com/bot/images/image.jpg\",\n",
    "          \"imageAspectRatio\": \"rectangle\",\n",
    "          \"imageSize\": \"cover\",\n",
    "          \"imageBackgroundColor\": \"#FFFFFF\",\n",
    "          \"title\": \"Menu\",\n",
    "          \"text\": \"Please select\",\n",
    "          \"defaultAction\": {\n",
    "              \"type\": \"uri\",\n",
    "              \"label\": \"View detail\",\n",
    "              \"uri\": \"http://example.com/page/123\"\n",
    "          },\n",
    "          \"actions\": [\n",
    "              {\n",
    "                \"type\": \"postback\",\n",
    "                \"label\": \"Buy\",\n",
    "                \"data\": \"action=buy&itemid=123\"\n",
    "              },\n",
    "              {\n",
    "                \"type\": \"postback\",\n",
    "                \"label\": \"Add to cart\",\n",
    "                \"data\": \"action=add&itemid=123\"\n",
    "              },\n",
    "              {\n",
    "                \"type\": \"uri\",\n",
    "                \"label\": \"View detail\",\n",
    "                \"uri\": \"http://example.com/page/123\"\n",
    "              }\n",
    "          ]\n",
    "      }\n",
    "    }\n",
    "]"
   ]
  },
  {
   "cell_type": "code",
   "execution_count": null,
   "metadata": {},
   "outputs": [],
   "source": [
    "data = [\n",
    "    {  \n",
    "       \"type\":\"uri\",\n",
    "       \"label\":\"View details\",\n",
    "       \"uri\":\"http://example.com/page/222\",\n",
    "       \"altUri\": {\n",
    "          \"desktop\" : \"http://example.com/pc/page/222\"\n",
    "       }\n",
    "    }\n",
    "]"
   ]
  },
  {
   "cell_type": "code",
   "execution_count": null,
   "metadata": {},
   "outputs": [],
   "source": [
    "line_bot_api = LineBotApi(token)\n",
    "\n",
    "user_id = \"\"\n",
    "\n",
    "headers = {\n",
    "    'Content-Type': 'application/json',\n",
    "    'Authorization': f'Bearer {token}'\n",
    "}\n",
    "\n",
    "data = {\n",
    "    \"to\": [user_id],\n",
    "    \"messages\": data\n",
    "}\n",
    "\n",
    "url = \"https://api.line.me/v2/bot/message/multicast\"\n",
    "\n",
    "response = requests.post(url, headers=headers, json=data)\n",
    "response.json()"
   ]
  },
  {
   "cell_type": "markdown",
   "metadata": {},
   "source": [
    "# get total usage"
   ]
  },
  {
   "cell_type": "code",
   "execution_count": null,
   "metadata": {},
   "outputs": [],
   "source": [
    "headers = {\n",
    "    'Authorization': f'Bearer {token}',\n",
    "}\n",
    "\n",
    "url = \"https://api.line.me/v2/bot/message/quota/consumption\"\n",
    "\n",
    "response = requests.get(url, headers=headers)\n",
    "response.json()"
   ]
  },
  {
   "cell_type": "code",
   "execution_count": null,
   "metadata": {},
   "outputs": [],
   "source": [
    "import datetime\n",
    "\n",
    "date = datetime.date.today().strftime(\"%Y%m%d\")\n",
    "\n",
    "headers = {\n",
    "    'Authorization': f'Bearer {token}',\n",
    "}\n",
    "\n",
    "params = (\n",
    "    ('date', date),\n",
    ")\n",
    "\n",
    "# get number of reply message\n",
    "url = \"https://api.line.me/v2/bot/message/delivery/reply\"\n",
    "\n",
    "# get number of push message\n",
    "url = \"https://api.line.me/v2/bot/message/delivery/push\"\n",
    "\n",
    "# get number of senging message\n",
    "url = \"https://api.line.me/v2/bot/insight/message/delivery\"\n",
    "\n",
    "response = requests.get(url, headers=headers, params=params)\n",
    "response.json()"
   ]
  },
  {
   "cell_type": "markdown",
   "metadata": {},
   "source": [
    "# get number of friends"
   ]
  },
  {
   "cell_type": "code",
   "execution_count": null,
   "metadata": {},
   "outputs": [],
   "source": [
    "import datetime\n",
    "\n",
    "#date = datetime.date.today().strftime(\"%Y%m%d\")\n",
    "date = \"20190831\"\n",
    "\n",
    "headers = {\n",
    "    'Authorization': f'Bearer {token}',\n",
    "}\n",
    "\n",
    "params = (\n",
    "    ('date', date),\n",
    ")\n",
    "\n",
    "url = \"https://api.line.me/v2/bot/insight/followers\"\n",
    "\n",
    "response = requests.get(url, headers=headers, params=params)\n",
    "response.json()"
   ]
  },
  {
   "cell_type": "markdown",
   "metadata": {},
   "source": [
    "# get owner profile"
   ]
  },
  {
   "cell_type": "code",
   "execution_count": null,
   "metadata": {},
   "outputs": [],
   "source": [
    "headers = {\n",
    "    'Authorization': f'Bearer {token}',\n",
    "}\n",
    "\n",
    "url = f\"https://api.line.me/v2/bot/profile/{user_id}\"\n",
    "\n",
    "response = requests.get(url, headers=headers)\n",
    "response.json()"
   ]
  },
  {
   "cell_type": "markdown",
   "metadata": {},
   "source": [
    "# get link token"
   ]
  },
  {
   "cell_type": "code",
   "execution_count": null,
   "metadata": {},
   "outputs": [],
   "source": [
    "headers = {\n",
    "    'Authorization': f'Bearer {token}',\n",
    "}\n",
    "\n",
    "url = f\"https://api.line.me/v2/bot/user/{user_id}/linkToken\"\n",
    "\n",
    "response = requests.post(url, headers=headers)\n",
    "response.json()"
   ]
  },
  {
   "cell_type": "code",
   "execution_count": null,
   "metadata": {},
   "outputs": [],
   "source": []
  },
  {
   "cell_type": "code",
   "execution_count": null,
   "metadata": {},
   "outputs": [],
   "source": []
  }
 ],
 "metadata": {
  "kernelspec": {
   "display_name": "Python 3",
   "language": "python",
   "name": "python3"
  },
  "language_info": {
   "codemirror_mode": {
    "name": "ipython",
    "version": 3
   },
   "file_extension": ".py",
   "mimetype": "text/x-python",
   "name": "python",
   "nbconvert_exporter": "python",
   "pygments_lexer": "ipython3",
   "version": "3.6.4"
  }
 },
 "nbformat": 4,
 "nbformat_minor": 2
}
