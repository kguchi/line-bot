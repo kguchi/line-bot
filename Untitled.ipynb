{
 "cells": [
  {
   "cell_type": "code",
   "execution_count": 128,
   "metadata": {},
   "outputs": [
    {
     "data": {
      "text/plain": [
       "b\"\\xa5j\\x91\\\\JD\\xb8\\xa9\\xe6j\\xa4';LHz\\xc6\\xcb\\x8b\\xee\\x0e\\xf2\\x8d\\x8b\\xfb\\xeb\\x9cC\\xb8\\x99h\\x8d\""
      ]
     },
     "execution_count": 128,
     "metadata": {},
     "output_type": "execute_result"
    }
   ],
   "source": [
    "import base64\n",
    "import hashlib\n",
    "import hmac\n",
    "\n",
    "channel_secret = \"990326e1a8911b7b3f3c0d4c1c60f7e1\" # Channel secret string\n",
    "body = \"type\" # Request body string\n",
    "hash = hmac.new(channel_secret.encode('utf-8'),\n",
    "    body.encode('utf-8'), hashlib.sha256).digest()\n",
    "signature = base64.b64encode(hash)\n",
    "# Compare X-Line-Signature request header and the signature\n",
    "hash"
   ]
  },
  {
   "cell_type": "code",
   "execution_count": 13,
   "metadata": {},
   "outputs": [
    {
     "name": "stdout",
     "output_type": "stream",
     "text": [
      "Collecting line-bot-sdk\n",
      "\u001b[?25l  Downloading https://files.pythonhosted.org/packages/5e/ad/5534900e16ea803aafe5cba0d21edd3e09f7580b054813067d01a4ec1542/line_bot_sdk-1.13.0-py2.py3-none-any.whl (51kB)\n",
      "\u001b[K     |████████████████████████████████| 61kB 2.2MB/s eta 0:00:01\n",
      "\u001b[?25hRequirement already satisfied: future in /anaconda3/lib/python3.6/site-packages (from line-bot-sdk) (0.17.1)\n",
      "Requirement already satisfied: requests>=2.0 in /anaconda3/lib/python3.6/site-packages (from line-bot-sdk) (2.20.1)\n",
      "Requirement already satisfied: chardet<3.1.0,>=3.0.2 in /anaconda3/lib/python3.6/site-packages (from requests>=2.0->line-bot-sdk) (3.0.4)\n",
      "Requirement already satisfied: idna<2.8,>=2.5 in /anaconda3/lib/python3.6/site-packages (from requests>=2.0->line-bot-sdk) (2.7)\n",
      "Requirement already satisfied: urllib3<1.25,>=1.21.1 in /anaconda3/lib/python3.6/site-packages (from requests>=2.0->line-bot-sdk) (1.23)\n",
      "Requirement already satisfied: certifi>=2017.4.17 in /anaconda3/lib/python3.6/site-packages (from requests>=2.0->line-bot-sdk) (2018.11.29)\n",
      "Installing collected packages: line-bot-sdk\n",
      "Successfully installed line-bot-sdk-1.13.0\n",
      "\u001b[33mWARNING: You are using pip version 19.2.1, however version 19.2.3 is available.\n",
      "You should consider upgrading via the 'pip install --upgrade pip' command.\u001b[0m\n"
     ]
    }
   ],
   "source": [
    "!pip install line-bot-sdk"
   ]
  },
  {
   "cell_type": "markdown",
   "metadata": {},
   "source": [
    "# Get access token"
   ]
  },
  {
   "cell_type": "code",
   "execution_count": 44,
   "metadata": {},
   "outputs": [
    {
     "data": {
      "text/plain": [
       "'cofFZSof9UpGosKjsswgsF8dXlK+6W3u8zGUi93BGhpmfhePEJD3ZktVcF2nMoxddFSqBSi6GVDPWBz64wAvaj2KM4gm38BziqeZ9voTM2oaNqcZz+rW9gkuop1cTgywZ2uNXw0YU6EYJtuo4k+GjI9PbdgDzCFqoOLOYbqAITQ='"
      ]
     },
     "execution_count": 44,
     "metadata": {},
     "output_type": "execute_result"
    }
   ],
   "source": [
    "import requests, json\n",
    "\n",
    "headers = {\n",
    "    'Content-Type': 'application/x-www-form-urlencoded',\n",
    "}\n",
    "\n",
    "data = {\n",
    "    \"grant_type\": \"client_credentials\",\n",
    "    \"client_id\": \"1614337272\",\n",
    "    \"client_secret\": \"990326e1a8911b7b3f3c0d4c1c60f7e1\"\n",
    "}\n",
    "\n",
    "url = \"https://api.line.me/v2/oauth/accessToken\"\n",
    "\n",
    "response = requests.post(url, headers=headers, data=data)\n",
    "token = response.json()['access_token']\n",
    "token"
   ]
  },
  {
   "cell_type": "markdown",
   "metadata": {},
   "source": [
    "# reply message"
   ]
  },
  {
   "cell_type": "code",
   "execution_count": 45,
   "metadata": {},
   "outputs": [
    {
     "name": "stdout",
     "output_type": "stream",
     "text": [
      "error\n"
     ]
    }
   ],
   "source": [
    "from linebot import LineBotApi\n",
    "from linebot.models import TextSendMessage\n",
    "from linebot.exceptions import LineBotApiError\n",
    "\n",
    "line_bot_api = LineBotApi(token)\n",
    "reply_token = \"oYvtL89UKMyn9yHREHO/JnE3Ey877BAIb7LCVuJCVvQ=\"\n",
    "\n",
    "try:\n",
    "    line_bot_api.reply_message(\"nHuyWiB7yP5Zw52FIkcQobQuGaeDXCTA\", TextSendMessage(text='Hello World!'))\n",
    "except LineBotApiError as e:\n",
    "    print(\"error\")"
   ]
  },
  {
   "cell_type": "code",
   "execution_count": 50,
   "metadata": {},
   "outputs": [
    {
     "data": {
      "text/plain": [
       "<Response [400]>"
      ]
     },
     "execution_count": 50,
     "metadata": {},
     "output_type": "execute_result"
    }
   ],
   "source": [
    "import requests\n",
    "\n",
    "headers = {\n",
    "    'Content-Type': 'application/json',\n",
    "    'Authorization': f'Bearer {token}'\n",
    "}\n",
    "\n",
    "data = {\n",
    "    \"replyToken\": \"oYvtL89UKMyn9yHREHO/JnE3Ey877BAIb7LCVuJCVaeQ=\",\n",
    "    \"messages\":[{\n",
    "        \"type\": \"text\", \n",
    "        \"text\": \"Hello, user\"\n",
    "    },  \n",
    "    {\n",
    "        \"type\": \"text\",\n",
    "        \"text\":\"May I help you?\"\n",
    "    }]\n",
    "}\n",
    "\n",
    "url = \"https://api.line.me/v2/bot/message/reply\"\n",
    "\n",
    "response = requests.post(url, headers=headers, data=data)\n",
    "response"
   ]
  },
  {
   "cell_type": "markdown",
   "metadata": {},
   "source": [
    "# push message"
   ]
  },
  {
   "cell_type": "code",
   "execution_count": 93,
   "metadata": {},
   "outputs": [
    {
     "data": {
      "text/plain": [
       "{}"
      ]
     },
     "execution_count": 93,
     "metadata": {},
     "output_type": "execute_result"
    }
   ],
   "source": [
    "line_bot_api = LineBotApi(token)\n",
    "\n",
    "user_id = \"U6d22418fbbd27d92af5c8eb3bf52215e\"\n",
    "\n",
    "headers = {\n",
    "    'Content-Type': 'application/json',\n",
    "    'Authorization': f'Bearer {token}'\n",
    "}\n",
    "\n",
    "data = {\n",
    "    \"to\": user_id,\n",
    "    \"messages\":[\n",
    "        {\n",
    "            \"type\":\"text\",\n",
    "            \"text\":\"Hello, world\"\n",
    "        },\n",
    "        {\n",
    "            \"type\":\"text\",\n",
    "            \"text\":\"Line Bot\"\n",
    "        }\n",
    "    ]\n",
    "}\n",
    "\n",
    "url = \"https://api.line.me/v2/bot/message/push\"\n",
    "\n",
    "response = requests.post(url, headers=headers, json=data)\n",
    "response.json()"
   ]
  },
  {
   "cell_type": "code",
   "execution_count": 91,
   "metadata": {},
   "outputs": [
    {
     "data": {
      "text/plain": [
       "{}"
      ]
     },
     "execution_count": 91,
     "metadata": {},
     "output_type": "execute_result"
    }
   ],
   "source": [
    "line_bot_api = LineBotApi(token)\n",
    "\n",
    "user_id = \"U6d22418fbbd27d92af5c8eb3bf52215e\"\n",
    "\n",
    "headers = {\n",
    "    'Content-Type': 'application/json',\n",
    "    'Authorization': f'Bearer {token}'\n",
    "}\n",
    "\n",
    "data = {\n",
    "    \"to\": [user_id],\n",
    "    \"messages\":[\n",
    "        {\n",
    "            \"type\":\"text\",\n",
    "            \"text\":\"Hello, world\"\n",
    "        },\n",
    "        {\n",
    "            \"type\":\"text\",\n",
    "            \"text\":\"Line Bot\"\n",
    "        }\n",
    "    ]\n",
    "}\n",
    "\n",
    "url = \"https://api.line.me/v2/bot/message/multicast\"\n",
    "\n",
    "response = requests.post(url, headers=headers, json=data)\n",
    "response.json()"
   ]
  },
  {
   "cell_type": "code",
   "execution_count": 105,
   "metadata": {},
   "outputs": [],
   "source": [
    "data = [\n",
    "    {\n",
    "        \"type\":\"text\",\n",
    "        \"text\":\"Hello, world\"\n",
    "    },\n",
    "    {\n",
    "        \"type\":\"text\",\n",
    "        \"text\":\"Line Bot\"\n",
    "    }\n",
    "]"
   ]
  },
  {
   "cell_type": "code",
   "execution_count": 112,
   "metadata": {},
   "outputs": [],
   "source": [
    "#emoji\n",
    "data = [\n",
    "    {\n",
    "        \"type\": \"text\",\n",
    "        \"text\": \"\\uDBC0\\uDC84 LINE emoji\"\n",
    "    }\n",
    "]"
   ]
  },
  {
   "cell_type": "code",
   "execution_count": 113,
   "metadata": {},
   "outputs": [],
   "source": [
    "#stamp\n",
    "data = [\n",
    "    {\n",
    "        \"type\": \"sticker\",\n",
    "        \"packageId\": \"1\",\n",
    "        \"stickerId\": \"1\"\n",
    "    }\n",
    "]"
   ]
  },
  {
   "cell_type": "code",
   "execution_count": 115,
   "metadata": {},
   "outputs": [],
   "source": [
    "#image\n",
    "data = [\n",
    "    {\n",
    "        \"type\": \"image\",\n",
    "        \"originalContentUrl\": \"https://example.com/original.jpg\",\n",
    "        \"previewImageUrl\": \"https://example.com/preview.jpg\"\n",
    "    }\n",
    "]"
   ]
  },
  {
   "cell_type": "code",
   "execution_count": 117,
   "metadata": {},
   "outputs": [],
   "source": [
    "#vide\n",
    "data = [\n",
    "    {\n",
    "        \"type\": \"video\",\n",
    "        \"originalContentUrl\": \"https://example.com/original.mp4\",\n",
    "        \"previewImageUrl\": \"https://example.com/preview.jpg\"\n",
    "    }\n",
    "]"
   ]
  },
  {
   "cell_type": "code",
   "execution_count": null,
   "metadata": {},
   "outputs": [],
   "source": [
    "#audio\n",
    "data = [\n",
    "    {\n",
    "        \"type\": \"audio\",\n",
    "        \"originalContentUrl\": \"https://example.com/original.m4a\",\n",
    "        \"duration\": 60000\n",
    "    }\n",
    "]"
   ]
  },
  {
   "cell_type": "code",
   "execution_count": 119,
   "metadata": {},
   "outputs": [],
   "source": [
    "#location\n",
    "data = [\n",
    "    {\n",
    "        \"type\": \"location\",\n",
    "        \"title\": \"my location\",\n",
    "        \"address\": \"〒150-0002 東京都渋谷区渋谷２丁目２１−１\",\n",
    "        \"latitude\": 35.65910807942215,\n",
    "        \"longitude\": 139.70372892916203\n",
    "    }\n",
    "]"
   ]
  },
  {
   "cell_type": "code",
   "execution_count": 121,
   "metadata": {},
   "outputs": [],
   "source": [
    "data = [\n",
    "    {\n",
    "      \"type\": \"template\",\n",
    "      \"altText\": \"This is a buttons template\",\n",
    "      \"template\": {\n",
    "          \"type\": \"buttons\",\n",
    "          \"thumbnailImageUrl\": \"https://example.com/bot/images/image.jpg\",\n",
    "          \"imageAspectRatio\": \"rectangle\",\n",
    "          \"imageSize\": \"cover\",\n",
    "          \"imageBackgroundColor\": \"#FFFFFF\",\n",
    "          \"title\": \"Menu\",\n",
    "          \"text\": \"Please select\",\n",
    "          \"defaultAction\": {\n",
    "              \"type\": \"uri\",\n",
    "              \"label\": \"View detail\",\n",
    "              \"uri\": \"http://example.com/page/123\"\n",
    "          },\n",
    "          \"actions\": [\n",
    "              {\n",
    "                \"type\": \"postback\",\n",
    "                \"label\": \"Buy\",\n",
    "                \"data\": \"action=buy&itemid=123\"\n",
    "              },\n",
    "              {\n",
    "                \"type\": \"postback\",\n",
    "                \"label\": \"Add to cart\",\n",
    "                \"data\": \"action=add&itemid=123\"\n",
    "              },\n",
    "              {\n",
    "                \"type\": \"uri\",\n",
    "                \"label\": \"View detail\",\n",
    "                \"uri\": \"http://example.com/page/123\"\n",
    "              }\n",
    "          ]\n",
    "      }\n",
    "    }\n",
    "]"
   ]
  },
  {
   "cell_type": "code",
   "execution_count": 123,
   "metadata": {},
   "outputs": [],
   "source": [
    "data = [\n",
    "    {  \n",
    "       \"type\":\"uri\",\n",
    "       \"label\":\"View details\",\n",
    "       \"uri\":\"http://example.com/page/222\",\n",
    "       \"altUri\": {\n",
    "          \"desktop\" : \"http://example.com/pc/page/222\"\n",
    "       }\n",
    "    }\n",
    "]"
   ]
  },
  {
   "cell_type": "code",
   "execution_count": 124,
   "metadata": {},
   "outputs": [
    {
     "data": {
      "text/plain": [
       "{'message': 'The request body has 1 error(s)',\n",
       " 'details': [{'message': 'Must be one of the following values: [text, image, video, audio, location, sticker, template, imagemap, flex]',\n",
       "   'property': 'messages[0].type'}]}"
      ]
     },
     "execution_count": 124,
     "metadata": {},
     "output_type": "execute_result"
    }
   ],
   "source": [
    "line_bot_api = LineBotApi(token)\n",
    "\n",
    "user_id = \"U6d22418fbbd27d92af5c8eb3bf52215e\"\n",
    "\n",
    "headers = {\n",
    "    'Content-Type': 'application/json',\n",
    "    'Authorization': f'Bearer {token}'\n",
    "}\n",
    "\n",
    "data = {\n",
    "    \"to\": [user_id],\n",
    "    \"messages\": data\n",
    "}\n",
    "\n",
    "url = \"https://api.line.me/v2/bot/message/multicast\"\n",
    "\n",
    "response = requests.post(url, headers=headers, json=data)\n",
    "response.json()"
   ]
  },
  {
   "cell_type": "markdown",
   "metadata": {},
   "source": [
    "# get total usage"
   ]
  },
  {
   "cell_type": "code",
   "execution_count": 56,
   "metadata": {},
   "outputs": [
    {
     "data": {
      "text/plain": [
       "{'totalUsage': 2}"
      ]
     },
     "execution_count": 56,
     "metadata": {},
     "output_type": "execute_result"
    }
   ],
   "source": [
    "headers = {\n",
    "    'Authorization': f'Bearer {token}',\n",
    "}\n",
    "\n",
    "url = \"https://api.line.me/v2/bot/message/quota/consumption\"\n",
    "\n",
    "response = requests.get(url, headers=headers)\n",
    "response.json()"
   ]
  },
  {
   "cell_type": "code",
   "execution_count": 78,
   "metadata": {},
   "outputs": [
    {
     "data": {
      "text/plain": [
       "{'status': 'unready'}"
      ]
     },
     "execution_count": 78,
     "metadata": {},
     "output_type": "execute_result"
    }
   ],
   "source": [
    "import datetime\n",
    "\n",
    "date = datetime.date.today().strftime(\"%Y%m%d\")\n",
    "\n",
    "headers = {\n",
    "    'Authorization': f'Bearer {token}',\n",
    "}\n",
    "\n",
    "params = (\n",
    "    ('date', date),\n",
    ")\n",
    "\n",
    "# get number of reply message\n",
    "url = \"https://api.line.me/v2/bot/message/delivery/reply\"\n",
    "\n",
    "# get number of push message\n",
    "url = \"https://api.line.me/v2/bot/message/delivery/push\"\n",
    "\n",
    "# get number of senging message\n",
    "url = \"https://api.line.me/v2/bot/insight/message/delivery\"\n",
    "\n",
    "response = requests.get(url, headers=headers, params=params)\n",
    "response.json()"
   ]
  },
  {
   "cell_type": "markdown",
   "metadata": {},
   "source": [
    "# get number of friends"
   ]
  },
  {
   "cell_type": "code",
   "execution_count": 80,
   "metadata": {},
   "outputs": [
    {
     "data": {
      "text/plain": [
       "{'status': 'ready', 'followers': 1, 'targetedReaches': 1, 'blocks': 0}"
      ]
     },
     "execution_count": 80,
     "metadata": {},
     "output_type": "execute_result"
    }
   ],
   "source": [
    "import datetime\n",
    "\n",
    "#date = datetime.date.today().strftime(\"%Y%m%d\")\n",
    "date = \"20190830\"\n",
    "\n",
    "headers = {\n",
    "    'Authorization': f'Bearer {token}',\n",
    "}\n",
    "\n",
    "params = (\n",
    "    ('date', date),\n",
    ")\n",
    "\n",
    "url = \"https://api.line.me/v2/bot/insight/followers\"\n",
    "\n",
    "response = requests.get(url, headers=headers, params=params)\n",
    "response.json()"
   ]
  },
  {
   "cell_type": "markdown",
   "metadata": {},
   "source": [
    "# get owner profile"
   ]
  },
  {
   "cell_type": "code",
   "execution_count": 81,
   "metadata": {},
   "outputs": [
    {
     "data": {
      "text/plain": [
       "{'userId': 'U6d22418fbbd27d92af5c8eb3bf52215e',\n",
       " 'displayName': '関口 一樹',\n",
       " 'pictureUrl': 'https://profile.line-scdn.net/0h9aeTIwtOZk5YLUoK7e0ZGWRoaCMvA2AGIB9-eHx4OnZwGigdYUJ-eC8pb3YiTXFNbR58K3gsMS1x'}"
      ]
     },
     "execution_count": 81,
     "metadata": {},
     "output_type": "execute_result"
    }
   ],
   "source": [
    "import datetime\n",
    "\n",
    "headers = {\n",
    "    'Authorization': f'Bearer {token}',\n",
    "}\n",
    "\n",
    "url = f\"https://api.line.me/v2/bot/profile/{user_id}\"\n",
    "\n",
    "response = requests.get(url, headers=headers, params=params)\n",
    "response.json()"
   ]
  },
  {
   "cell_type": "markdown",
   "metadata": {},
   "source": [
    "# get link token"
   ]
  },
  {
   "cell_type": "code",
   "execution_count": 83,
   "metadata": {},
   "outputs": [
    {
     "data": {
      "text/plain": [
       "{'linkToken': '71shiXKN438Tg5ErV5uanNPlAIEjWl6t'}"
      ]
     },
     "execution_count": 83,
     "metadata": {},
     "output_type": "execute_result"
    }
   ],
   "source": [
    "import datetime\n",
    "\n",
    "headers = {\n",
    "    'Authorization': f'Bearer {token}',\n",
    "}\n",
    "\n",
    "url = f\"https://api.line.me/v2/bot/user/{user_id}/linkToken\"\n",
    "\n",
    "response = requests.post(url, headers=headers, params=params)\n",
    "response.json()"
   ]
  },
  {
   "cell_type": "code",
   "execution_count": null,
   "metadata": {},
   "outputs": [],
   "source": []
  }
 ],
 "metadata": {
  "kernelspec": {
   "display_name": "Python 3",
   "language": "python",
   "name": "python3"
  },
  "language_info": {
   "codemirror_mode": {
    "name": "ipython",
    "version": 3
   },
   "file_extension": ".py",
   "mimetype": "text/x-python",
   "name": "python",
   "nbconvert_exporter": "python",
   "pygments_lexer": "ipython3",
   "version": "3.6.4"
  }
 },
 "nbformat": 4,
 "nbformat_minor": 2
}
